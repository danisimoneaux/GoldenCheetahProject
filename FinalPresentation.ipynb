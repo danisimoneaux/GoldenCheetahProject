{
  "nbformat": 4,
  "nbformat_minor": 0,
  "metadata": {
    "colab": {
      "name": "FinalPresentation.ipynb",
      "provenance": [],
      "collapsed_sections": []
    },
    "kernelspec": {
      "name": "python3",
      "display_name": "Python 3"
    },
    "language_info": {
      "name": "python"
    }
  },
  "cells": [
    {
      "cell_type": "markdown",
      "source": [
        "#Background:\n",
        "### I found these datasets on kaggle. They contains data from GoldenCheetah - a web application that gives athletes the ability to download their power data to the computer of their choice, analyze it in whatever way they see fit, and share their methods of analysis with others. The question I am answering is, 'What sport requires the most critical power exertion among 20-30 women in a sample.' For background, critical power refers to continuous constant power output exercise. "
      ],
      "metadata": {
        "id": "R00AQsoVatXK"
      }
    },
    {
      "cell_type": "markdown",
      "source": [
        "##Clean Data"
      ],
      "metadata": {
        "id": "znz_elzFYcF3"
      }
    },
    {
      "cell_type": "code",
      "source": [
        "import seaborn as sns\n",
        "import matplotlib.pyplot as plt\n",
        "import pandas as pd\n",
        "import numpy as np"
      ],
      "metadata": {
        "id": "pVP4SaN5FuLa"
      },
      "execution_count": 1,
      "outputs": []
    },
    {
      "cell_type": "code",
      "source": [
        "df = pd.read_csv('activities_mmp.csv')"
      ],
      "metadata": {
        "id": "338hPvdSjXBu"
      },
      "execution_count": 2,
      "outputs": []
    },
    {
      "cell_type": "code",
      "source": [
        "df1 = pd.read_csv('activities.csv')"
      ],
      "metadata": {
        "id": "BFsKHAGQjic5"
      },
      "execution_count": 3,
      "outputs": []
    },
    {
      "cell_type": "code",
      "source": [
        "df2 = pd.read_csv('athletes.csv')"
      ],
      "metadata": {
        "id": "qt_tocvglQcW"
      },
      "execution_count": 4,
      "outputs": []
    },
    {
      "cell_type": "markdown",
      "source": [
        "##Set Index for 'id'"
      ],
      "metadata": {
        "id": "6QP1qxQjsnvB"
      }
    },
    {
      "cell_type": "code",
      "source": [
        "df = df.set_index('id')"
      ],
      "metadata": {
        "id": "tzp7y9kxlmZJ"
      },
      "execution_count": 5,
      "outputs": []
    },
    {
      "cell_type": "code",
      "source": [
        "df1 = df1.set_index('id')"
      ],
      "metadata": {
        "id": "9ooKyhHfkYr1"
      },
      "execution_count": 6,
      "outputs": []
    },
    {
      "cell_type": "code",
      "source": [
        "df2 = df2.set_index('id')"
      ],
      "metadata": {
        "id": "2E9COt93lVif"
      },
      "execution_count": 7,
      "outputs": []
    },
    {
      "cell_type": "markdown",
      "source": [
        "##Combine CSV's"
      ],
      "metadata": {
        "id": "00VK2SVdsuVt"
      }
    },
    {
      "cell_type": "code",
      "source": [
        "df3 = pd.concat([df1, df2])"
      ],
      "metadata": {
        "id": "UjR8x1NdmJbs"
      },
      "execution_count": 8,
      "outputs": []
    },
    {
      "cell_type": "code",
      "source": [
        "df4 = pd.concat([df3,df])"
      ],
      "metadata": {
        "id": "bgu9qWyBmctt"
      },
      "execution_count": 19,
      "outputs": []
    },
    {
      "cell_type": "markdown",
      "source": [
        "##Get rid of unnecessary columnns"
      ],
      "metadata": {
        "id": "Jrp7xdi4pXeS"
      }
    },
    {
      "cell_type": "code",
      "source": [
        "df4 = df4[['date','age','gender','sport','data','1s_critical_power','15s_critical_power','2m_critical_power','3m_critical_power']]"
      ],
      "metadata": {
        "id": "BzTguRWzmzPO"
      },
      "execution_count": 20,
      "outputs": []
    },
    {
      "cell_type": "markdown",
      "source": [
        "##Get rid of rows that have NaN data"
      ],
      "metadata": {
        "id": "YcVSb7DlreC1"
      }
    },
    {
      "cell_type": "code",
      "source": [
        "df4 = df4.dropna()"
      ],
      "metadata": {
        "id": "rwIv7uSXr4mP"
      },
      "execution_count": 16,
      "outputs": []
    },
    {
      "cell_type": "markdown",
      "source": [
        "##Filter to get 20-30 year old female data by sport and critical power"
      ],
      "metadata": {
        "id": "hUlfUz8jaYcO"
      }
    },
    {
      "cell_type": "code",
      "source": [
        "females = df4[df4['gender'] == 'F' ]"
      ],
      "metadata": {
        "id": "3J075x1Wr7gU"
      },
      "execution_count": 21,
      "outputs": []
    },
    {
      "cell_type": "code",
      "source": [
        "females['sport'].value_counts()"
      ],
      "metadata": {
        "colab": {
          "base_uri": "https://localhost:8080/"
        },
        "id": "JprHR9kVdYeg",
        "outputId": "59bc9fa7-c97c-4cf7-dbe2-167c1cc74ea7"
      },
      "execution_count": 22,
      "outputs": [
        {
          "output_type": "execute_result",
          "data": {
            "text/plain": [
              "Bike                                  16188\n",
              "Run                                    1635\n",
              "Rennrad                                 719\n",
              "Swim                                    502\n",
              "Row                                     478\n",
              "                                      ...  \n",
              "Afternoon Activity bkool                  1\n",
              "Giretto post jogging mattutino....        1\n",
              "Camminata mattutina ☔️                    1\n",
              "Giro mtb                                  1\n",
              "d                                         1\n",
              "Name: sport, Length: 233, dtype: int64"
            ]
          },
          "metadata": {},
          "execution_count": 22
        }
      ]
    },
    {
      "cell_type": "code",
      "source": [
        "rundset = females.query(\"age<30 and age >20\")"
      ],
      "metadata": {
        "id": "WbVs4dxGvqTK"
      },
      "execution_count": 37,
      "outputs": []
    },
    {
      "cell_type": "markdown",
      "source": [
        "##Group by sport and average critcal power"
      ],
      "metadata": {
        "id": "4BAcajJRaGwd"
      }
    },
    {
      "cell_type": "code",
      "source": [
        "graph1 = rundset.groupby('sport')['15s_critical_power'].mean()"
      ],
      "metadata": {
        "id": "0YTTUyznGzS-"
      },
      "execution_count": 25,
      "outputs": []
    },
    {
      "cell_type": "code",
      "source": [
        "graph2 = rundset.groupby('sport')['2m_critical_power'].mean()"
      ],
      "metadata": {
        "id": "Y11PF-waHoS5"
      },
      "execution_count": 31,
      "outputs": []
    },
    {
      "cell_type": "code",
      "source": [
        "graph3 = rundset.groupby('sport')['3m_critical_power'].mean()"
      ],
      "metadata": {
        "id": "KtUy34ItHtjn"
      },
      "execution_count": 33,
      "outputs": []
    },
    {
      "cell_type": "code",
      "source": [
        "graph1.plot(kind = 'bar', y = 'Sport', x = 'Critical Power')\n",
        "ax = plt.gca()\n",
        "plt.title('Average 15s Critical Power Compared to Sport - Ages 20-30')\n",
        "ax.set_ylabel('Critical Power')\n",
        "plt.show()"
      ],
      "metadata": {
        "colab": {
          "base_uri": "https://localhost:8080/",
          "height": 340
        },
        "id": "qyYgLXcuKXk9",
        "outputId": "42a2f856-bf0f-450a-89b4-058b559623d1"
      },
      "execution_count": 29,
      "outputs": [
        {
          "output_type": "display_data",
          "data": {
            "text/plain": [
              "<Figure size 432x288 with 1 Axes>"
            ],
            "image/png": "[encoded data removed]"
          },
          "metadata": {
            "needs_background": "light"
          }
        }
      ]
    },
    {
      "cell_type": "code",
      "source": [
        "graph2.plot(kind = 'bar', y = 'Sport', x = '2m Critical Power')\n",
        "ax = plt.gca()\n",
        "plt.title('Average 2m Critical Power Compared to Sport - Ages 20-30')\n",
        "ax.set_ylabel('Critical Power')\n",
        "plt.show()"
      ],
      "metadata": {
        "colab": {
          "base_uri": "https://localhost:8080/",
          "height": 340
        },
        "id": "NJtnymw2KXnl",
        "outputId": "57903291-d118-40dc-b719-6961e324efa9"
      },
      "execution_count": 35,
      "outputs": [
        {
          "output_type": "display_data",
          "data": {
            "text/plain": [
              "<Figure size 432x288 with 1 Axes>"
            ],
            "image/png": "[encoded data removed]"
          },
          "metadata": {
            "needs_background": "light"
          }
        }
      ]
    },
    {
      "cell_type": "code",
      "source": [
        "graph3.plot(kind = 'bar', y = 'Sport', x = '3m Critical Power')\n",
        "ax = plt.gca()\n",
        "plt.title('Average 3m Critical Power Compared to Sport - Ages 20-30')\n",
        "ax.set_ylabel('Critical Power')\n",
        "plt.show()"
      ],
      "metadata": {
        "colab": {
          "base_uri": "https://localhost:8080/",
          "height": 340
        },
        "id": "7DCjY3iaKXqN",
        "outputId": "3c11bc29-e417-44a5-d486-596fa668b203"
      },
      "execution_count": 36,
      "outputs": [
        {
          "output_type": "display_data",
          "data": {
            "text/plain": [
              "<Figure size 432x288 with 1 Axes>"
            ],
            "image/png": "[encoded data removed]"
          },
          "metadata": {
            "needs_background": "light"
          }
        }
      ]
    },
    {
      "cell_type": "markdown",
      "source": [
        "##Findings\n",
        "\n",
        "For women aged 20-30, biking outdoors leads to more continuous critical power exertion than on a stationary bike."
      ],
      "metadata": {
        "id": "3YDhBcn_qn7g"
      }
    }
  ]
}